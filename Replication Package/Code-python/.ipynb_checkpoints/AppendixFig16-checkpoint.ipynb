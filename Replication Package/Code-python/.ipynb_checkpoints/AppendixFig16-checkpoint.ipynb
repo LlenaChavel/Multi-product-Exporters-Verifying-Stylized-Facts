{
 "cells": [
  {
   "cell_type": "code",
   "execution_count": 1,
   "metadata": {},
   "outputs": [],
   "source": [
    "#download and install the joblib library from the Python Package Index (PyPI)"
   ]
  },
  {
   "cell_type": "code",
   "execution_count": 2,
   "metadata": {},
   "outputs": [
    {
     "name": "stdout",
     "output_type": "stream",
     "text": [
      "Requirement already satisfied: joblib in c:\\programdata\\anaconda3\\lib\\site-packages (0.17.0)\n",
      "Note: you may need to restart the kernel to use updated packages.\n"
     ]
    }
   ],
   "source": [
    "pip install joblib"
   ]
  },
  {
   "cell_type": "code",
   "execution_count": 3,
   "metadata": {},
   "outputs": [],
   "source": [
    "# Imports the NumPy library and aliases it as 'np'.\n",
    "import numpy as np\n",
    "\n",
    "# Imports the pandas library and aliases it as 'pd'. \n",
    "import pandas as pd\n",
    "\n",
    "# Imports the 'Parallel' and 'delayed' functions from the joblib library. Joblib is a set of tools to provide \n",
    "# lightweight pipelining in Python. 'Parallel' is used to execute functions in parallel, while 'delayed' is a \n",
    "# simple decorator to capture the arguments of a function. This setup is useful for parallel processing.\n",
    "from joblib import Parallel, delayed\n",
    "\n",
    "# Imports the pyplot interface of the matplotlib library as 'plt'. \n",
    "import matplotlib.pyplot as plt\n",
    "\n",
    "#To check the number of cores availiable on the PC download \n",
    "from multiprocessing import cpu_count"
   ]
  },
  {
   "cell_type": "code",
   "execution_count": 4,
   "metadata": {},
   "outputs": [],
   "source": [
    "shipment_size=760000\n",
    "#760000 roughly matches the number of single product exporters "
   ]
  },
  {
   "cell_type": "code",
   "execution_count": 5,
   "metadata": {},
   "outputs": [],
   "source": [
    "# Load the files with the number of balls per firm, share of each HS code in total sales, HScodes"
   ]
  },
  {
   "cell_type": "code",
   "execution_count": 6,
   "metadata": {},
   "outputs": [
    {
     "name": "stdout",
     "output_type": "stream",
     "text": [
      "The sum of all elements in the hs_shares is: 0.9999999999999996\n"
     ]
    }
   ],
   "source": [
    "# Sales in each HS category \n",
    "\n",
    "# Define the path to the CSV file containing sales data using a relative path.\n",
    "path_shares_values = r'..\\Data-python\\HS_shares.csv'\n",
    "# Load the sales shares data from the specified path. The data is expected to be tab-delimited.\n",
    "hs_shares = np.genfromtxt(path_shares_values, delimiter='\\t')\n",
    "\n",
    "# Define the path to the CSV file containing HS codes using a relative path.\n",
    "path_codes_values = r'..\\Data-python\\HS_codes.csv'\n",
    "# Load the HS codes data from the specified path. The data is also expected to be tab-delimited.\n",
    "Hscodes = np.genfromtxt(path_codes_values, delimiter='\\t')\n",
    "\n",
    "# Convert the loaded HS shares data from a NumPy array to a Python list for easier manipulation.\n",
    "hs_shares = hs_shares.tolist()\n",
    "# Reshape the HS codes data into a column vector to ensure it has a consistent structure for analysis.\n",
    "# The '-1' in reshape(-1, 1) indicates that the number of rows should be inferred from the length of the array, \n",
    "# making it a single column with as many rows as necessary.\n",
    "Hscodes = Hscodes.reshape(-1, 1)\n",
    "\n",
    "# Calculate the total sum sales across all HS categories \n",
    "total_sum = sum(hs_shares)\n",
    "# Divide sales in an HS-category as \n",
    "hs_shares = [share / total_sum for share in hs_shares]\n",
    "\n",
    "# Print the sum of all elements in the normalized hs_shares list to verify that it equals 1 after normalization.\n",
    "print(\"The sum of all elements in the hs_shares is:\", sum(hs_shares))\n"
   ]
  },
  {
   "cell_type": "code",
   "execution_count": 7,
   "metadata": {},
   "outputs": [],
   "source": [
    "# Load the Balls data from a CSV file located in a relative path '../Data/Balls_All.csv'.\n",
    "# The data is expected to be tab-delimited ('\\t'), which is specified by the delimiter parameter.\n",
    "Balls = np.genfromtxt(r'..\\Data-python\\Balls_US.csv', delimiter='\\t')\n",
    "\n",
    "# Normalize the loaded Balls data by dividing firm sales by 'shipment_size'.\n",
    "Balls = Balls / shipment_size\n",
    "\n",
    "# Round up each value in the Balls array to the nearest whole number.\n",
    "# This is done to ensure the count of balls is represented as whole numbers,\n",
    "# as partial balls are not meaningful in this context.\n",
    "Balls = np.ceil(Balls)"
   ]
  },
  {
   "cell_type": "code",
   "execution_count": 8,
   "metadata": {},
   "outputs": [],
   "source": [
    "#Load number of products per firm data for the US\n",
    "path_nprod_data=r'..\\Data-python\\nprod_data.csv'\n",
    "nprod_data = np.genfromtxt(path_nprod_data, delimiter='\\t')"
   ]
  },
  {
   "cell_type": "code",
   "execution_count": 9,
   "metadata": {},
   "outputs": [],
   "source": [
    "#Set up a function to allocate a ball across HS-categories"
   ]
  },
  {
   "cell_type": "code",
   "execution_count": 10,
   "metadata": {},
   "outputs": [],
   "source": [
    "#This function simulates the allocation of a certain number of items (denoted by ball) \n",
    "#across different HScodes (defined by hs_shares probabilities) and associates each allocation with an identifier (i). \n",
    "#The final output is a matrix where each row contains the identifier, the HS code, and the number of balls allocated \n",
    "#to that HS code, based on the simulated multinomial distribution.\n",
    "\n",
    "def process_ball(i, ball):\n",
    "    \n",
    "    product = np.random.multinomial(ball, hs_shares, size=1)\n",
    "    id = i * np.ones(len(hs_shares))\n",
    "    id = id.reshape(-1, 1)\n",
    "    stacked_matrix = np.hstack((id, Hscodes))\n",
    "    iter = np.array(product[0])\n",
    "    iter = iter.reshape(-1, 1)\n",
    "    return np.hstack((stacked_matrix, iter))"
   ]
  },
  {
   "cell_type": "code",
   "execution_count": 11,
   "metadata": {
    "scrolled": true
   },
   "outputs": [],
   "source": [
    "# Use joblib to parallelize the loop to evalutate process_ball function for every element in Balls\n",
    "\n",
    "#num_cores = cpu_count()-1  # use all available cores\n",
    "\n",
    "# Adjust the number of cores to stay within Windows' limits.Here we ensure not to exceed 60 (to leave some room for other\n",
    "#processes and avoid hitting the 64 limit) Note that this machine has 64 cores, in case your machine has fewer cores, \n",
    "#the maximum number of cores availiable to joblib maybe smaller\n",
    "\n",
    "num_cores = min(cpu_count() - 1, 60)\n",
    "\n",
    "results = Parallel(n_jobs=num_cores)(delayed(process_ball)(i, ball) for i, ball in enumerate(Balls, 1))\n",
    "\n",
    "# Combine the results into a matrix with \n",
    "matrix = np.vstack(results)\n"
   ]
  },
  {
   "cell_type": "code",
   "execution_count": 12,
   "metadata": {},
   "outputs": [],
   "source": [
    "import pandas as pd\n",
    "\n",
    "# Create a DataFrame from 'matrix' with specific column names for readability.\n",
    "df = pd.DataFrame(data=matrix, columns=['Firm', 'Hscodes', 'Balls'])\n",
    "\n",
    "# Filter out rows where 'Balls' is 0, as these represent products not produced/sold by the firm.\n",
    "df = df[df['Balls'] != 0]\n",
    "\n",
    "# Create a new column 'nprod_b' that counts the number of products each firm has.\n",
    "df['nprod_b'] = df.groupby('Firm')['Firm'].transform('count')\n",
    "\n"
   ]
  },
  {
   "cell_type": "code",
   "execution_count": 13,
   "metadata": {},
   "outputs": [],
   "source": [
    "# creates a new dataframe with unique values of firm id and the corresponding number of products\n",
    "df_unique = df.drop_duplicates(subset='Firm')[['Firm', 'nprod_b']]"
   ]
  },
  {
   "cell_type": "code",
   "execution_count": 14,
   "metadata": {},
   "outputs": [],
   "source": [
    "#modify product numbers for ease of plotting \n",
    "df_unique['nprod_b'] = df_unique['nprod_b'].where(df_unique['nprod_b'] <= 20, 20)\n",
    "nprod_data[nprod_data > 20] = 20"
   ]
  },
  {
   "cell_type": "code",
   "execution_count": 15,
   "metadata": {},
   "outputs": [],
   "source": [
    "#Plot the histogram with the distribution of scope from the data and the alternative benchmark"
   ]
  },
  {
   "cell_type": "code",
   "execution_count": 16,
   "metadata": {},
   "outputs": [
    {
     "data": {
      "image/png": "[encoded data removed]",
      "text/plain": [
       "<Figure size 432x288 with 1 Axes>"
      ]
     },
     "metadata": {
      "needs_background": "light"
     },
     "output_type": "display_data"
    }
   ],
   "source": [
    "# Define custom bins\n",
    "bins = list(range(1, 21))\n",
    "\n",
    "# Calculate weights for dataframe column and numpy array\n",
    "weights_df = np.ones_like(df_unique['nprod_b']) / len(df_unique['nprod_b'])\n",
    "weights_array = np.ones_like(nprod_data) / len(nprod_data)\n",
    "\n",
    "# Plotting the DataFrame column\n",
    "plt.hist(df_unique['nprod_b'], bins=bins, alpha=0.5, label='Bins and Balls', weights=weights_df)\n",
    "\n",
    "# Plotting the array\n",
    "plt.hist(nprod_data, bins=bins, alpha=0.5, label='Data', weights=weights_array)\n",
    "\n",
    "# Setting custom x-axis ticks and labels\n",
    "tick_positions = list(range(1, 20))\n",
    "tick_labels = [str(i) for i in range(1, 19)] + ['19+']\n",
    "plt.xticks(tick_positions, tick_labels)\n",
    "\n",
    "# Adding title and labels\n",
    "plt.title('Scope Histogram')\n",
    "plt.xlabel('Scope')\n",
    "plt.ylabel('Percentage')\n",
    "plt.legend(loc='upper right')  # To display a legend on the top right\n",
    "\n",
    "# Save the plot to a PDF file\n",
    "path = r'..\\Includes-python'\n",
    "plt.savefig(path+'\\AppendixFig16.pdf', format='pdf')\n",
    "\n",
    "# Display the plot\n",
    "plt.show()\n"
   ]
  },
  {
   "cell_type": "code",
   "execution_count": null,
   "metadata": {},
   "outputs": [],
   "source": []
  }
 ],
 "metadata": {
  "kernelspec": {
   "display_name": "Python 3",
   "language": "python",
   "name": "python3"
  },
  "language_info": {
   "codemirror_mode": {
    "name": "ipython",
    "version": 3
   },
   "file_extension": ".py",
   "mimetype": "text/x-python",
   "name": "python",
   "nbconvert_exporter": "python",
   "pygments_lexer": "ipython3",
   "version": "3.8.5"
  }
 },
 "nbformat": 4,
 "nbformat_minor": 4
}
