{
 "cells": [
  {
   "cell_type": "code",
   "execution_count": 1,
   "metadata": {},
   "outputs": [],
   "source": [
    "#Fgure 1 - Appendix Bins and Balls Alternative Benchmark"
   ]
  },
  {
   "cell_type": "code",
   "execution_count": 2,
   "metadata": {},
   "outputs": [],
   "source": [
    "#Calibration 1\n",
    "#Each firm receives a number of balls in proportion to it's sales at the destination. The balls are distributed across HS-category grid. \n",
    "# The probability that a ball lands in a country-HS group cell is given by the product of share of sales that belong to \n",
    "# an HS-category \n",
    "# The final plot shows the distribution of the number of products in the data and predicted by the alternative benchmark"
   ]
  },
  {
   "cell_type": "code",
   "execution_count": 3,
   "metadata": {},
   "outputs": [],
   "source": [
    "#Download and install the joblib library from the Python Package Index (PyPI)"
   ]
  },
  {
   "cell_type": "code",
   "execution_count": 4,
   "metadata": {},
   "outputs": [
    {
     "name": "stdout",
     "output_type": "stream",
     "text": [
      "Requirement already satisfied: joblib in c:\\programdata\\anaconda3\\lib\\site-packages (0.17.0)\n",
      "Note: you may need to restart the kernel to use updated packages.\n"
     ]
    }
   ],
   "source": [
    "pip install joblib"
   ]
  },
  {
   "cell_type": "code",
   "execution_count": 5,
   "metadata": {},
   "outputs": [],
   "source": [
    "# Imports the NumPy library and aliases it as 'np'.\n",
    "import numpy as np\n",
    "\n",
    "# Imports the pandas library and aliases it as 'pd'. \n",
    "import pandas as pd\n",
    "\n",
    "# Imports the 'Parallel' and 'delayed' functions from the joblib library. Joblib is a set of tools to provide \n",
    "# lightweight pipelining in Python. 'Parallel' is used to execute functions in parallel, while 'delayed' is a \n",
    "# simple decorator to capture the arguments of a function. This setup is useful for parallel processing.\n",
    "from joblib import Parallel, delayed\n",
    "\n",
    "# Imports the pyplot interface of the matplotlib library as 'plt'. \n",
    "import matplotlib.pyplot as plt\n",
    "\n",
    "#to check the number of cores availiable on the PC download \n",
    "from multiprocessing import cpu_count\n"
   ]
  },
  {
   "cell_type": "code",
   "execution_count": 6,
   "metadata": {},
   "outputs": [],
   "source": [
    "shipment_size= 84608.4\n",
    "#84608.4  average shipment size between  China and the US\n",
    "#47542.06   average shipment size overall\n",
    "#51140.41  average shipment size for shipments >250 between the US and China"
   ]
  },
  {
   "cell_type": "code",
   "execution_count": 7,
   "metadata": {},
   "outputs": [],
   "source": [
    "# Load the files with the number of balls per firm, share of each HS code in total sales, HScodes"
   ]
  },
  {
   "cell_type": "code",
   "execution_count": 8,
   "metadata": {},
   "outputs": [
    {
     "name": "stdout",
     "output_type": "stream",
     "text": [
      "The sum of all elements in the hs_shares is: 0.9999999999999996\n"
     ]
    }
   ],
   "source": [
    "# Sales in each HS category \n",
    "\n",
    "# Define the path to the CSV file containing sales data using a relative path.\n",
    "path_shares_values = r'..\\Data-python\\HS_shares.csv'  \n",
    "# Load the sales shares data from the specified path. The data is expected to be tab-delimited.\n",
    "hs_shares = np.genfromtxt(path_shares_values, delimiter='\\t')\n",
    "\n",
    "# Define the path to the CSV file containing HS codes using a relative path.\n",
    "path_codes_values = r'..\\Data-python\\HS_codes.csv'\n",
    "# Load the HS codes data from the specified path. The data is also expected to be tab-delimited.\n",
    "Hscodes = np.genfromtxt(path_codes_values, delimiter='\\t')\n",
    "\n",
    "# Convert the loaded HS shares data from a NumPy array to a Python list for easier manipulation.\n",
    "hs_shares = hs_shares.tolist()\n",
    "# Reshape the HS codes data into a column vector to ensure it has a consistent structure for analysis.\n",
    "# The '-1' in reshape(-1, 1) indicates that the number of rows should be inferred from the length of the array, \n",
    "# making it a single column with as many rows as necessary.\n",
    "Hscodes = Hscodes.reshape(-1, 1)\n",
    "\n",
    "# Calculate the total sum sales across all HS categories \n",
    "total_sum = sum(hs_shares)\n",
    "# Divide sales in an HS-category as \n",
    "hs_shares = [share / total_sum for share in hs_shares]\n",
    "\n",
    "# Print the sum of all elements in the normalized hs_shares list to verify that it equals 1 after normalization.\n",
    "print(\"The sum of all elements in the hs_shares is:\", sum(hs_shares))\n"
   ]
  },
  {
   "cell_type": "code",
   "execution_count": 9,
   "metadata": {},
   "outputs": [],
   "source": [
    "# Load the Balls data from a CSV file located in a relative path '../Data/Balls_All.csv'.\n",
    "# The data is expected to be tab-delimited ('\\t'), which is specified by the delimiter parameter.\n",
    "Balls = np.genfromtxt(r'..\\Data-python\\Balls_US.csv', delimiter='\\t')\n",
    "\n",
    "# Normalize the loaded Balls data by dividing firm sales by 'shipment_size'.\n",
    "Balls = Balls / shipment_size\n",
    "\n",
    "# Round up each value in the Balls array to the nearest whole number.\n",
    "# This is done to ensure the count of balls is represented as whole numbers,\n",
    "# as partial balls are not meaningful in this context.\n",
    "Balls = np.ceil(Balls)"
   ]
  },
  {
   "cell_type": "code",
   "execution_count": 10,
   "metadata": {},
   "outputs": [],
   "source": [
    "#Load number of products per firm data for the US\n",
    "path_nprod_data=r'..\\Data-python\\nprod_data.csv'\n",
    "nprod_data = np.genfromtxt(path_nprod_data, delimiter='\\t')"
   ]
  },
  {
   "cell_type": "code",
   "execution_count": 11,
   "metadata": {},
   "outputs": [],
   "source": [
    "#Set up a function to allocate a ball across HS-categories"
   ]
  },
  {
   "cell_type": "code",
   "execution_count": 12,
   "metadata": {},
   "outputs": [],
   "source": [
    "#This function simulates the allocation of balls across different HScodes (defined by hs_shares probabilities) and \n",
    "#associates each allocation with an identifier (i). The final output is a matrix where each row contains the identifier, \n",
    "#the HS code, and the number of balls allocated to that HS code, based on the simulated multinomial distribution.\n",
    "\n",
    "def process_ball(i, ball):\n",
    "    \n",
    "    product = np.random.multinomial(ball, hs_shares, size=1)\n",
    "    id = i * np.ones(len(hs_shares))\n",
    "    id = id.reshape(-1, 1)\n",
    "    stacked_matrix = np.hstack((id, Hscodes))\n",
    "    iter = np.array(product[0])\n",
    "    iter = iter.reshape(-1, 1)\n",
    "    return np.hstack((stacked_matrix, iter))"
   ]
  },
  {
   "cell_type": "code",
   "execution_count": 13,
   "metadata": {
    "scrolled": true
   },
   "outputs": [],
   "source": [
    "# Use joblib to parallelize the loop to evalutate process_ball function for every element in Balls\n",
    "\n",
    "#num_cores = cpu_count()-1  # use all available cores\n",
    "\n",
    "# Adjust the number of cores to stay within Windows' limits.Here we ensure not to exceed 60 (to leave some room for other\n",
    "#processes and avoid hitting the 64 limit) Note that this machine has 64 cores, in case your machine has fewer cores, \n",
    "#the maximum number of cores availiable to joblib maybe smaller\n",
    "num_cores = min(cpu_count() - 1, 60)\n",
    "\n",
    "results = Parallel(n_jobs=num_cores)(delayed(process_ball)(i, ball) for i, ball in enumerate(Balls, 1))\n",
    "\n",
    "# Combine the results into a matrix with \n",
    "matrix = np.vstack(results)\n"
   ]
  },
  {
   "cell_type": "code",
   "execution_count": 14,
   "metadata": {},
   "outputs": [
    {
     "data": {
      "text/html": [
       "<div>\n",
       "<style scoped>\n",
       "    .dataframe tbody tr th:only-of-type {\n",
       "        vertical-align: middle;\n",
       "    }\n",
       "\n",
       "    .dataframe tbody tr th {\n",
       "        vertical-align: top;\n",
       "    }\n",
       "\n",
       "    .dataframe thead th {\n",
       "        text-align: right;\n",
       "    }\n",
       "</style>\n",
       "<table border=\"1\" class=\"dataframe\">\n",
       "  <thead>\n",
       "    <tr style=\"text-align: right;\">\n",
       "      <th></th>\n",
       "      <th>Firm</th>\n",
       "      <th>Hscodes</th>\n",
       "      <th>Balls</th>\n",
       "      <th>nprod_b</th>\n",
       "    </tr>\n",
       "  </thead>\n",
       "  <tbody>\n",
       "    <tr>\n",
       "      <th>3765</th>\n",
       "      <td>1.0</td>\n",
       "      <td>847330.0</td>\n",
       "      <td>1.0</td>\n",
       "      <td>1</td>\n",
       "    </tr>\n",
       "    <tr>\n",
       "      <th>6967</th>\n",
       "      <td>2.0</td>\n",
       "      <td>611120.0</td>\n",
       "      <td>1.0</td>\n",
       "      <td>2</td>\n",
       "    </tr>\n",
       "    <tr>\n",
       "      <th>8673</th>\n",
       "      <td>2.0</td>\n",
       "      <td>854451.0</td>\n",
       "      <td>1.0</td>\n",
       "      <td>2</td>\n",
       "    </tr>\n",
       "    <tr>\n",
       "      <th>9230</th>\n",
       "      <td>3.0</td>\n",
       "      <td>30420.0</td>\n",
       "      <td>1.0</td>\n",
       "      <td>65</td>\n",
       "    </tr>\n",
       "    <tr>\n",
       "      <th>9245</th>\n",
       "      <td>3.0</td>\n",
       "      <td>30613.0</td>\n",
       "      <td>1.0</td>\n",
       "      <td>65</td>\n",
       "    </tr>\n",
       "    <tr>\n",
       "      <th>...</th>\n",
       "      <td>...</td>\n",
       "      <td>...</td>\n",
       "      <td>...</td>\n",
       "      <td>...</td>\n",
       "    </tr>\n",
       "    <tr>\n",
       "      <th>153019142</th>\n",
       "      <td>33425.0</td>\n",
       "      <td>854110.0</td>\n",
       "      <td>1.0</td>\n",
       "      <td>20</td>\n",
       "    </tr>\n",
       "    <tr>\n",
       "      <th>153019366</th>\n",
       "      <td>33425.0</td>\n",
       "      <td>901839.0</td>\n",
       "      <td>1.0</td>\n",
       "      <td>20</td>\n",
       "    </tr>\n",
       "    <tr>\n",
       "      <th>153020293</th>\n",
       "      <td>33426.0</td>\n",
       "      <td>280469.0</td>\n",
       "      <td>1.0</td>\n",
       "      <td>3</td>\n",
       "    </tr>\n",
       "    <tr>\n",
       "      <th>153023404</th>\n",
       "      <td>33426.0</td>\n",
       "      <td>847160.0</td>\n",
       "      <td>1.0</td>\n",
       "      <td>3</td>\n",
       "    </tr>\n",
       "    <tr>\n",
       "      <th>153023729</th>\n",
       "      <td>33426.0</td>\n",
       "      <td>854221.0</td>\n",
       "      <td>1.0</td>\n",
       "      <td>3</td>\n",
       "    </tr>\n",
       "  </tbody>\n",
       "</table>\n",
       "<p>1204641 rows × 4 columns</p>\n",
       "</div>"
      ],
      "text/plain": [
       "              Firm   Hscodes  Balls  nprod_b\n",
       "3765           1.0  847330.0    1.0        1\n",
       "6967           2.0  611120.0    1.0        2\n",
       "8673           2.0  854451.0    1.0        2\n",
       "9230           3.0   30420.0    1.0       65\n",
       "9245           3.0   30613.0    1.0       65\n",
       "...            ...       ...    ...      ...\n",
       "153019142  33425.0  854110.0    1.0       20\n",
       "153019366  33425.0  901839.0    1.0       20\n",
       "153020293  33426.0  280469.0    1.0        3\n",
       "153023404  33426.0  847160.0    1.0        3\n",
       "153023729  33426.0  854221.0    1.0        3\n",
       "\n",
       "[1204641 rows x 4 columns]"
      ]
     },
     "execution_count": 14,
     "metadata": {},
     "output_type": "execute_result"
    }
   ],
   "source": [
    "# Create a DataFrame from 'matrix' with specific column names for readability.\n",
    "df = pd.DataFrame(data=matrix, columns=['Firm', 'Hscodes', 'Balls'])\n",
    "\n",
    "# Filter out rows where 'Balls' is 0, as these represent products not produced/sold by the firm.\n",
    "df = df[df['Balls'] != 0]\n",
    "\n",
    "# Create a new column 'nprod_b' that counts the number of products each firm has.\n",
    "df['nprod_b'] = df.groupby('Firm')['Firm'].transform('count')\n",
    "\n",
    "df\n"
   ]
  },
  {
   "cell_type": "code",
   "execution_count": 15,
   "metadata": {},
   "outputs": [],
   "source": [
    "# creates a new dataframe with unique values of firm id and the corresponding number of products\n",
    "df_unique = df.drop_duplicates(subset='Firm')[['Firm', 'nprod_b']]"
   ]
  },
  {
   "cell_type": "code",
   "execution_count": 16,
   "metadata": {},
   "outputs": [],
   "source": [
    "#modify product numbers for ease of plotting \n",
    "df_unique['nprod_b'] = df_unique['nprod_b'].where(df_unique['nprod_b'] <= 20, 20)\n",
    "nprod_data[nprod_data > 20] = 20"
   ]
  },
  {
   "cell_type": "code",
   "execution_count": 17,
   "metadata": {},
   "outputs": [],
   "source": [
    "#Plot the histogram with the distribution of scope from the data and the alternative benchmark"
   ]
  },
  {
   "cell_type": "code",
   "execution_count": 18,
   "metadata": {},
   "outputs": [
    {
     "data": {
      "image/png": "[encoded data removed]",
      "text/plain": [
       "<Figure size 432x288 with 1 Axes>"
      ]
     },
     "metadata": {
      "needs_background": "light"
     },
     "output_type": "display_data"
    }
   ],
   "source": [
    "# Define custom bins\n",
    "bins = list(range(1, 21))\n",
    "\n",
    "# Calculate weights for dataframe column and numpy array\n",
    "weights_df = np.ones_like(df_unique['nprod_b']) / len(df_unique['nprod_b'])\n",
    "weights_array = np.ones_like(nprod_data) / len(nprod_data)\n",
    "\n",
    "# Plotting the DataFrame column\n",
    "plt.hist(df_unique['nprod_b'], bins=bins, alpha=0.5, label='Bins and Balls', weights=weights_df)\n",
    "\n",
    "# Plotting the array\n",
    "plt.hist(nprod_data, bins=bins, alpha=0.5, label='Data', weights=weights_array)\n",
    "\n",
    "# Setting custom x-axis ticks and labels\n",
    "tick_positions = list(range(1, 20))\n",
    "tick_labels = [str(i) for i in range(1, 19)] + ['19+']\n",
    "plt.xticks(tick_positions, tick_labels)\n",
    "\n",
    "# Adding title and labels\n",
    "plt.title('Scope Histogram')\n",
    "plt.xlabel('Scope')\n",
    "plt.ylabel('Percentage')\n",
    "plt.legend(loc='upper right')  # To display a legend on the top right\n",
    "\n",
    "# Save the plot to a PDF file\n",
    "path = r'..\\Includes-python'\n",
    "plt.savefig(path+'\\AppendixFig12.pdf', format='pdf')\n",
    "\n",
    "# Display the plot\n",
    "plt.show()\n"
   ]
  },
  {
   "cell_type": "code",
   "execution_count": null,
   "metadata": {},
   "outputs": [],
   "source": []
  }
 ],
 "metadata": {
  "kernelspec": {
   "display_name": "Python 3",
   "language": "python",
   "name": "python3"
  },
  "language_info": {
   "codemirror_mode": {
    "name": "ipython",
    "version": 3
   },
   "file_extension": ".py",
   "mimetype": "text/x-python",
   "name": "python",
   "nbconvert_exporter": "python",
   "pygments_lexer": "ipython3",
   "version": "3.8.5"
  }
 },
 "nbformat": 4,
 "nbformat_minor": 4
}
