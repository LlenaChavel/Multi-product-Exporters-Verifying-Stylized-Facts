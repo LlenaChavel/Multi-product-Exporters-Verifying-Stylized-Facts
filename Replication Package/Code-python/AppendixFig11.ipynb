{
 "cells": [
  {
   "cell_type": "code",
   "execution_count": 1,
   "metadata": {},
   "outputs": [],
   "source": [
    "# This program replicates figure 11 A and B in the appendix. To replicate #set Fig=\"A\" to replicate figure 11 A and \n",
    "# set Fig=\"B\" to replicate figure 11 B in the Appendix "
   ]
  },
  {
   "cell_type": "code",
   "execution_count": 2,
   "metadata": {},
   "outputs": [],
   "source": [
    "# Install necessary libraries (if not already installed): pandas for data manipulation, plotnine for ggplot2-like plots in Python\n",
    "#!pip install pandas plotnine\n",
    "\n",
    "# Import the pandas library for data manipulation and analysis\n",
    "import pandas as pd\n",
    "\n",
    "# Import the numpy library for numerical operations\n",
    "import numpy as np\n",
    "\n",
    "# Import matplotlib's pyplot for creating static, interactive, and animated visualizations in Python\n",
    "import matplotlib.pyplot as plt\n",
    "\n",
    "# From pandas, import DataFrame for handling data in a table-like structure\n",
    "from pandas import DataFrame\n",
    "\n",
    "# From mpl_toolkits.mplot3d, import Axes3D for 3D plotting capabilities\n",
    "from mpl_toolkits.mplot3d import Axes3D\n",
    "\n",
    "# Import plotnine for creating complex plots using a grammar of graphics approach\n",
    "import plotnine\n",
    "\n",
    "# From plotnine, import all (*) to use its functions directly without prefixing them with plotnine.\n",
    "from plotnine import *\n",
    "\n",
    "# Import statsmodels' formula API for fitting statistical models using formulas\n",
    "import statsmodels.formula.api as sm\n",
    "\n",
    "# From numpy.random, import default_rng to create a new instance of the default random number generator\n",
    "from numpy.random import default_rng\n",
    "\n",
    "# Import Parallel and delayed functions from the joblib library. \n",
    "# Parallel is used for parallel computing, allowing for the execution of functions in parallel\n",
    "# across multiple processors, delayed is a helper function that wraps the function to be executed in parallel, \n",
    "# making it easy to parallelize loops and function calls.\n",
    "from joblib import Parallel, delayed"
   ]
  },
  {
   "cell_type": "code",
   "execution_count": 3,
   "metadata": {},
   "outputs": [],
   "source": [
    "#set Fig=\"A\" to replicate figure 11 A and set Fig=\"B\" to replicate figure 11 B in the Appendix \n",
    "Fig=\"B\""
   ]
  },
  {
   "cell_type": "code",
   "execution_count": 4,
   "metadata": {},
   "outputs": [],
   "source": [
    "# Update the path variable to the directory where the Figures will be stored.\n",
    "#path = \"C:\\\\Users\\\\Lena Sheveleva\\\\OneDrive - Cardiff University\\\\MPF_Facts_And_Fiction\\\\Replication Package\\\\Includes-python\"\n",
    "path =  r'..\\Includes-python'"
   ]
  },
  {
   "cell_type": "code",
   "execution_count": 5,
   "metadata": {},
   "outputs": [],
   "source": [
    "#Function prod_dest_distr is called by function correlate_ranks below \n",
    "\n",
    "# As inputs the function take the number of destinations that a firm serves (c), the number of products exported, and \n",
    "# whether fig A or be B is replicated Fig.\n",
    "\n",
    "#output is a set of two np arrays for product and country ids imitating a typical record for a firm in  a customs dataset\n",
    "\n",
    "def prod_dest_distr(c, scopeG, Fig):\n",
    "    # Initialize empty lists for hsV and an empty numpy array for cV to store our results.\n",
    "    hsV = []\n",
    "    cV = np.array([], dtype=int)\n",
    "    \n",
    "    # Check if Fig is \"A\" to determine the processing logic.\n",
    "    if Fig == \"A\":\n",
    "        # Generate a list of product IDs from 1 to scopeG.\n",
    "        hs = [x for x in range(1, scopeG + 1)]\n",
    "        # Iterate over the range up to c to simulate different conditions or categories.\n",
    "        for j in range(0, c):       \n",
    "            if j == 0:\n",
    "                # For the first iteration, simply assign hs to hsV and create an array of zeros for cV.\n",
    "                hsV = hs\n",
    "                cV = j * np.ones((len(hsV),), dtype=int)\n",
    "            else:\n",
    "                # For subsequent iterations, concatenate new values to cV and hsV to simulate the distribution.\n",
    "                cV = np.concatenate((cV, j * np.ones((len(hs),), dtype=int)), axis=0)\n",
    "                hsV = np.concatenate((hsV, hs), axis=0)\n",
    "    elif Fig == \"B\":\n",
    "        # This block is executed if Fig is \"B\", employing a simplified scenario where hs is fixed.\n",
    "        hs = [1]\n",
    "        for j in range(0, c):\n",
    "            if j == 0:\n",
    "                # Similar to Fig \"A\", but starts with a predefined list for hsV in the first iteration.\n",
    "                hsV = [x for x in range(1, scopeG + 1)]\n",
    "                cV = j * np.ones((len(hsV),), dtype=int)\n",
    "            else:\n",
    "                # For further iterations, the process is similar, simulating a different condition or category.\n",
    "                cV = np.concatenate((cV, j * np.ones((len(hs),), dtype=int)), axis=0)\n",
    "                hsV = np.concatenate((hsV, hs), axis=0)\n",
    "    \n",
    "    # Return the results as a list containing cV and hsV.\n",
    "    return [cV, hsV]\n"
   ]
  },
  {
   "cell_type": "code",
   "execution_count": 6,
   "metadata": {},
   "outputs": [],
   "source": [
    "def correlate_ranks(c, scopeG, f):\n",
    "    \n",
    "    # The function models the distribution of product exports to various destinations (countries) \n",
    "    # and evaluates the correlation between the ranking of product sales within each destination and \n",
    "    # across all destinations globally.\n",
    "    \n",
    "    # Parameters:\n",
    "    # c: Number of countries (destinations).\n",
    "    # scopeG: Total number of unique products exported across all destinations.\n",
    "    # f: Number of firms exporting products.\n",
    "\n",
    "    # Initialize distribution of products and destinations for a representative firm\n",
    "    [cV, hsV] = prod_dest_distr(c, scopeG, Fig)\n",
    "                \n",
    "    Nf = len(cV)  # Total number of product-destination pairs.\n",
    "    \n",
    "    # Repeat cV and hsV f times to simulate multiple firms exporting the same set of products to the same set of destinations.\n",
    "    c_v = np.tile(cV, f)  # Destination index for each firm.\n",
    "    h_v = np.tile(hsV, f)  # Product index for each firm.\n",
    "    f_v = np.repeat(np.arange(f), Nf)  # Firm index.\n",
    "\n",
    "    Nd = len(f_v)  # Total number of observations (firm-product-destination triples).\n",
    "    rng = default_rng(1)  # Initialize random number generator for reproducibility.\n",
    "    values = pd.Series(np.exp(rng.standard_normal(Nd)))  # Simulate sales figures with log-normal distribution.\n",
    "\n",
    "    # Create a dataframe to organize the simulated data.\n",
    "    df = pd.DataFrame({'id': f_v, 'destination': c_v, 'product_code': h_v, 'sales': values})\n",
    "    \n",
    "    df[\"rank\"] = np.nan  # Initialize rank column for later use.\n",
    "\n",
    "    # Function to rank products by their sales within each firm-destination group.\n",
    "    def func(group):\n",
    "        group['rank'] = group['sales'].rank(ascending=False)\n",
    "        return group\n",
    "\n",
    "    # Apply the ranking function to each firm-destination group.\n",
    "    df = df.groupby(['id', 'destination']).apply(func)\n",
    "\n",
    "    # Aggregate sales data at the firm-product level and prepare for global ranking.\n",
    "    df1 = df.groupby(['id', 'product_code']).sum().drop(columns=['destination'])\n",
    "    df1[\"rank_gl\"] = np.nan  # Initialize column for global rank within each firm.\n",
    "\n",
    "    # Function to rank products by their aggregated sales within each firm.\n",
    "    def func_global(group):\n",
    "        group['rank_gl'] = group['sales'].rank(ascending=False)\n",
    "        return group\n",
    "\n",
    "    # Apply the global ranking function to each firm.\n",
    "    df1 = df1.groupby('id').apply(func_global)\n",
    "    df1 = df1.rename(columns={\"sales\": \"sales_gl\"}).drop(columns=['rank'])\n",
    "    \n",
    "    # Merge the global and local rank dataframes to analyze correlation.\n",
    "    df2 = df1.merge(df, on=['id', 'product_code'])\n",
    "    df2['rank'] = df2['rank'].astype(int)\n",
    "    df2['rank_gl'] = df2['rank_gl'].astype(int)\n",
    "    \n",
    "    # Calculate and return the Pearson correlation coefficient between local and global product sales ranks.\n",
    "    corr = df2['rank'].corr(df2['rank_gl'])\n",
    "\n",
    "    return [corr]\n",
    "\n"
   ]
  },
  {
   "cell_type": "code",
   "execution_count": 7,
   "metadata": {},
   "outputs": [
    {
     "name": "stdout",
     "output_type": "stream",
     "text": [
      "[0.8087694350521841]\n"
     ]
    }
   ],
   "source": [
    "    print(correlate_ranks(5,6,100))  "
   ]
  },
  {
   "cell_type": "code",
   "execution_count": 8,
   "metadata": {},
   "outputs": [],
   "source": [
    "# Number of countries and number of products exported \n",
    "Nc = 20\n",
    "scopeG_max = 20"
   ]
  },
  {
   "cell_type": "code",
   "execution_count": 9,
   "metadata": {},
   "outputs": [],
   "source": [
    "# Prepare a list of all possible (c, scopeG) pairs for given ranges.\n",
    "# c_values and scopeG_values represent the ranges of possible values for c and scopeG, respectively.\n",
    "# c ranges from 1 to Nc-1, and scopeG ranges from 2 to scopeG_max.\n",
    "# This is useful for scenarios where you need to iterate over multiple configurations of c and scopeG,\n",
    "# such as in simulations, data generation, or analysis tasks.\n",
    "\n",
    "# Generate an array of c values, starting from 1 up to Nc-1.\n",
    "c_values = np.arange(1, Nc)  \n",
    "\n",
    "# Generate an array of scopeG values, starting from 2 up to scopeG_max. (export at least 2 products)\n",
    "scopeG_values = np.arange(2, scopeG_max + 1)  \n",
    "\n",
    "# Use np.meshgrid to create two 2D arrays: C and ScopeG.\n",
    "# C contains repeated rows of c_values, and ScopeG contains repeated columns of scopeG_values.\n",
    "# This creates a grid of all possible (c, scopeG) combinations.\n",
    "C, ScopeG = np.meshgrid(c_values, scopeG_values)\n",
    "\n",
    "# Flatten the 2D arrays C and ScopeG to create a list of pairs.\n",
    "# Each pair (c, scopeG) represents a unique combination of c and scopeG values.\n",
    "pairs = list(zip(C.flatten(), ScopeG.flatten()))\n"
   ]
  },
  {
   "cell_type": "code",
   "execution_count": 10,
   "metadata": {},
   "outputs": [],
   "source": [
    "# This function wraps the original call to correlate_ranks\n",
    "# and prepares the data structure you want to end up with.\n",
    "def process_pair(c_scopeG):\n",
    "    f=10000\n",
    "    c, scopeG = c_scopeG\n",
    "    corr = correlate_ranks(c, scopeG, f)  # Assuming this function returns [corr]\n",
    "    # Prepend c and scopeG to the result\n",
    "    return [c, scopeG] + corr"
   ]
  },
  {
   "cell_type": "code",
   "execution_count": 11,
   "metadata": {},
   "outputs": [],
   "source": [
    "# Execute the process_pair function in parallel across multiple processor cores.\n",
    "# The process_pair function is applied to each element in the 'pairs' list.\n",
    "# 'Parallel' creates a pool of workers (processes), with the number of workers specified by n_jobs.\n",
    "# Here, n_jobs=60 indicates that up to 60 tasks can be run in parallel, depending on the availability of resources.\n",
    "# 'delayed' wraps the process_pair function, ensuring it's called with each element from 'pairs' as its argument.\n",
    "# This parallel execution is especially beneficial for computationally intensive tasks or processing large datasets,\n",
    "# as it can significantly reduce the overall execution time by making use of multiple cores.\n",
    "\n",
    "results = Parallel(n_jobs=60)(delayed(process_pair)(i) for i in pairs)\n"
   ]
  },
  {
   "cell_type": "code",
   "execution_count": 12,
   "metadata": {},
   "outputs": [
    {
     "data": {
      "text/html": [
       "<div>\n",
       "<style scoped>\n",
       "    .dataframe tbody tr th:only-of-type {\n",
       "        vertical-align: middle;\n",
       "    }\n",
       "\n",
       "    .dataframe tbody tr th {\n",
       "        vertical-align: top;\n",
       "    }\n",
       "\n",
       "    .dataframe thead th {\n",
       "        text-align: right;\n",
       "    }\n",
       "</style>\n",
       "<table border=\"1\" class=\"dataframe\">\n",
       "  <thead>\n",
       "    <tr style=\"text-align: right;\">\n",
       "      <th></th>\n",
       "      <th>country</th>\n",
       "      <th>scope</th>\n",
       "      <th>corr</th>\n",
       "    </tr>\n",
       "  </thead>\n",
       "  <tbody>\n",
       "    <tr>\n",
       "      <th>0</th>\n",
       "      <td>1</td>\n",
       "      <td>2</td>\n",
       "      <td>1.000000</td>\n",
       "    </tr>\n",
       "    <tr>\n",
       "      <th>1</th>\n",
       "      <td>2</td>\n",
       "      <td>2</td>\n",
       "      <td>0.466477</td>\n",
       "    </tr>\n",
       "    <tr>\n",
       "      <th>2</th>\n",
       "      <td>3</td>\n",
       "      <td>2</td>\n",
       "      <td>0.390208</td>\n",
       "    </tr>\n",
       "    <tr>\n",
       "      <th>3</th>\n",
       "      <td>4</td>\n",
       "      <td>2</td>\n",
       "      <td>0.367078</td>\n",
       "    </tr>\n",
       "    <tr>\n",
       "      <th>4</th>\n",
       "      <td>5</td>\n",
       "      <td>2</td>\n",
       "      <td>0.399610</td>\n",
       "    </tr>\n",
       "    <tr>\n",
       "      <th>...</th>\n",
       "      <td>...</td>\n",
       "      <td>...</td>\n",
       "      <td>...</td>\n",
       "    </tr>\n",
       "    <tr>\n",
       "      <th>356</th>\n",
       "      <td>15</td>\n",
       "      <td>20</td>\n",
       "      <td>0.952706</td>\n",
       "    </tr>\n",
       "    <tr>\n",
       "      <th>357</th>\n",
       "      <td>16</td>\n",
       "      <td>20</td>\n",
       "      <td>0.953073</td>\n",
       "    </tr>\n",
       "    <tr>\n",
       "      <th>358</th>\n",
       "      <td>17</td>\n",
       "      <td>20</td>\n",
       "      <td>0.955351</td>\n",
       "    </tr>\n",
       "    <tr>\n",
       "      <th>359</th>\n",
       "      <td>18</td>\n",
       "      <td>20</td>\n",
       "      <td>0.956200</td>\n",
       "    </tr>\n",
       "    <tr>\n",
       "      <th>360</th>\n",
       "      <td>19</td>\n",
       "      <td>20</td>\n",
       "      <td>0.956155</td>\n",
       "    </tr>\n",
       "  </tbody>\n",
       "</table>\n",
       "<p>361 rows × 3 columns</p>\n",
       "</div>"
      ],
      "text/plain": [
       "     country  scope      corr\n",
       "0          1      2  1.000000\n",
       "1          2      2  0.466477\n",
       "2          3      2  0.390208\n",
       "3          4      2  0.367078\n",
       "4          5      2  0.399610\n",
       "..       ...    ...       ...\n",
       "356       15     20  0.952706\n",
       "357       16     20  0.953073\n",
       "358       17     20  0.955351\n",
       "359       18     20  0.956200\n",
       "360       19     20  0.956155\n",
       "\n",
       "[361 rows x 3 columns]"
      ]
     },
     "execution_count": 12,
     "metadata": {},
     "output_type": "execute_result"
    }
   ],
   "source": [
    "# Convert results to a DataFrame\n",
    "df3 = pd.DataFrame(results, columns=[\"country\", \"scope\", \"corr\"])\n",
    "\n",
    "# Display the first few rows of the DataFrame\n",
    "df3\n"
   ]
  },
  {
   "cell_type": "code",
   "execution_count": 13,
   "metadata": {},
   "outputs": [],
   "source": [
    "# Convert the 'country' and 'scope' columns from strings or floats to integers.\n",
    "# This conversion is necessary for correct plotting and grouping in the ggplot,\n",
    "# as these fields are expected to be numeric (especially 'country' if it's being used in a logarithmic scale).\n",
    "df3['country'] = df3['country'].apply(int)\n",
    "df3['scope'] = df3['scope'].apply(int)\n"
   ]
  },
  {
   "cell_type": "code",
   "execution_count": 14,
   "metadata": {},
   "outputs": [
    {
     "name": "stderr",
     "output_type": "stream",
     "text": [
      "C:\\ProgramData\\Anaconda3\\lib\\site-packages\\plotnine\\ggplot.py:727: PlotnineWarning: Saving 6.4 x 4.8 in image.\n",
      "C:\\ProgramData\\Anaconda3\\lib\\site-packages\\plotnine\\ggplot.py:730: PlotnineWarning: Filename: ..\\Includes-python/Fig11B.pdf\n"
     ]
    },
    {
     "data": {
      "image/png": "[encoded data removed]",
      "text/plain": [
       "<Figure size 640x480 with 1 Axes>"
      ]
     },
     "metadata": {},
     "output_type": "display_data"
    },
    {
     "data": {
      "text/plain": [
       "<ggplot: (161298946684)>"
      ]
     },
     "execution_count": 14,
     "metadata": {},
     "output_type": "execute_result"
    }
   ],
   "source": [
    "# Create a ggplot object named p2. The plot visualizes the relationship between 'country' and 'corr',\n",
    "# with different 'scope' values represented as both colors and groups.\n",
    "\n",
    "# 'aes' defines the aesthetics of the plot, mapping 'country' to the x-axis, 'corr' to the y-axis,\n",
    "#  and 'scope' to both the color and the grouping of points and lines.\n",
    "\n",
    "# 'geom_point' adds points to the plot, one for each row in df3, allowing us to see the distribution of 'corr' values across countries.\n",
    "\n",
    "# 'geom_line' connects these points with lines, grouped by 'scope', to illustrate how 'corr' changes across countries within each scope.\n",
    "\n",
    "# 'scale_x_continuous' is used to set the x-axis to a logarithmic scale, improving readability when 'country' values span several orders of magnitude.\n",
    "# The 'breaks' parameter explicitly sets the tick marks on the x-axis to specific values, enhancing the plot's interpretability.\n",
    "\n",
    "p=ggplot(df3, aes(x='scope', y='corr', group = 'country',color = 'country'))+ \\\n",
    "    geom_point()+ \\\n",
    "    geom_line()+\\\n",
    "    scale_x_continuous(breaks=[1,2,3,4,5,6,7,8,9,10,11,12,13,14,15,16,17,18,19,20])\n",
    "\n",
    "full_path = f\"{path}/Fig11{Fig}.pdf\"\n",
    "ggsave(plot = p, filename = full_path)\n",
    "\n",
    "p"
   ]
  },
  {
   "cell_type": "code",
   "execution_count": null,
   "metadata": {},
   "outputs": [],
   "source": []
  }
 ],
 "metadata": {
  "kernelspec": {
   "display_name": "Python 3",
   "language": "python",
   "name": "python3"
  },
  "language_info": {
   "codemirror_mode": {
    "name": "ipython",
    "version": 3
   },
   "file_extension": ".py",
   "mimetype": "text/x-python",
   "name": "python",
   "nbconvert_exporter": "python",
   "pygments_lexer": "ipython3",
   "version": "3.8.5"
  }
 },
 "nbformat": 4,
 "nbformat_minor": 4
}
